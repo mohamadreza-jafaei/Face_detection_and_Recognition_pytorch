{
 "cells": [
  {
   "cell_type": "code",
   "execution_count": 2,
   "metadata": {},
   "outputs": [],
   "source": [
    "import torch\n",
    "import numpy as np\n",
    "import matplotlib.pyplot as plt\n",
    "import torchvision\n",
    "from torch.utils.data import DataLoader\n",
    "from facenet_pytorch import MTCNN , InceptionResnetV1\n",
    "from PIL import Image"
   ]
  },
  {
   "attachments": {},
   "cell_type": "markdown",
   "metadata": {},
   "source": [
    "## Load Datset"
   ]
  },
  {
   "cell_type": "code",
   "execution_count": 3,
   "metadata": {},
   "outputs": [],
   "source": [
    "device = torch.device(\"cuda:0\" if torch.cuda.is_available() else \"cpu\")\n",
    "dataset = torchvision.datasets.ImageFolder(\"./Dataset/\" )\n",
    "classes = { i : dataset.classes[i] for i in range(len(dataset.classes))}\n",
    "def collate_fn(x):\n",
    "    return x[0]\n",
    "\n",
    "data_loader = DataLoader(dataset=dataset , collate_fn=collate_fn)\n"
   ]
  },
  {
   "attachments": {},
   "cell_type": "markdown",
   "metadata": {},
   "source": [
    "## Create Model"
   ]
  },
  {
   "cell_type": "code",
   "execution_count": 4,
   "metadata": {},
   "outputs": [],
   "source": [
    "model = MTCNN(image_size=160, margin=2 , min_face_size=10 , device=device).eval()\n",
    "resnet = InceptionResnetV1(pretrained='vggface2').eval()\n",
    "embed_list = []\n",
    "class_names = []\n",
    "\n",
    "for i,(input, label) in enumerate(data_loader):\n",
    "    path = \"faces/face \"+str(i+1)+\".png\"\n",
    "    face_tensor, prob = model(input, save_path=path, return_prob=True)\n",
    "    if face_tensor is not None:\n",
    "        embeded = resnet(face_tensor.unsqueeze(0))\n",
    "        embed_list.append(embeded)\n",
    "        class_names.append(label)"
   ]
  },
  {
   "attachments": {},
   "cell_type": "markdown",
   "metadata": {},
   "source": [
    "## Predict New Image\n"
   ]
  },
  {
   "cell_type": "code",
   "execution_count": 43,
   "metadata": {},
   "outputs": [
    {
     "name": "stdout",
     "output_type": "stream",
     "text": [
      "MohamadrezaJafaei\n"
     ]
    }
   ],
   "source": [
    "def predict_image(address,embed_list , class_names):\n",
    "    img = Image.open(address)\n",
    "    plt.title(\"Input Image\")\n",
    "    plt.imshow(img)\n",
    "    plt.show()\n",
    "    path = \"face-test.png\"\n",
    "\n",
    "\n",
    "    face_tensor, prob = model(img, save_path=path, return_prob=True)\n",
    "    plt.title(f\"Face Image with prob {prob}\" )\n",
    "    plt.imshow(face_tensor.numpy())\n",
    "    plt.show()\n",
    "\n",
    "\n",
    "    embeded = resnet(face_tensor.unsqueeze(0))\n",
    "    distances=[]\n",
    "    \n",
    "    for embed_data in embed_list:\n",
    "        distances.append(torch.dist(embeded , embed_data).item())\n",
    "    best_index = np.argmin(distances)\n",
    "    print(classes[class_names[best_index]])\n",
    "\n",
    "\n",
    "predict_image(\"test7.jpg\", embed_list , class_names)\n"
   ]
  }
 ],
 "metadata": {
  "kernelspec": {
   "display_name": "Python 3",
   "language": "python",
   "name": "python3"
  },
  "language_info": {
   "codemirror_mode": {
    "name": "ipython",
    "version": 3
   },
   "file_extension": ".py",
   "mimetype": "text/x-python",
   "name": "python",
   "nbconvert_exporter": "python",
   "pygments_lexer": "ipython3",
   "version": "3.10.6"
  },
  "orig_nbformat": 4
 },
 "nbformat": 4,
 "nbformat_minor": 2
}
